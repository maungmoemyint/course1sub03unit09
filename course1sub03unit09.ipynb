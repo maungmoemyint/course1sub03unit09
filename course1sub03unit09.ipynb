{
 "cells": [
  {
   "cell_type": "markdown",
   "id": "6c0bb9b3-bfe3-42c9-99dd-a5279bf227ea",
   "metadata": {},
   "source": [
    "## Classes and Objects"
   ]
  },
  {
   "cell_type": "code",
   "execution_count": 2,
   "id": "5312c6dc-6269-4d0f-9557-054d5ef1d9bd",
   "metadata": {},
   "outputs": [],
   "source": [
    "# An example of class\n",
    "# name and animal_type are attributes of the Class Pet\n",
    "\n",
    "class Pet(object):\n",
    "    def __init__(self, name, animal_type):\n",
    "        self.name = name\n",
    "        self.animal_type = animal_type"
   ]
  },
  {
   "cell_type": "code",
   "execution_count": 3,
   "id": "15807335-e5a4-44fd-bfd9-2e1b8960dd9d",
   "metadata": {},
   "outputs": [],
   "source": [
    "## Create an Instance\n",
    "\n",
    "Dexter = Pet(\"Dexter\", \"dog\") # Dexter is the instance of the Class Pet"
   ]
  },
  {
   "cell_type": "code",
   "execution_count": 4,
   "id": "a4e5326a-dd2c-4430-8d2b-6bede144b2ac",
   "metadata": {},
   "outputs": [
    {
     "data": {
      "text/plain": [
       "'dog'"
      ]
     },
     "execution_count": 4,
     "metadata": {},
     "output_type": "execute_result"
    }
   ],
   "source": [
    "## Access the attribute of the Instance (Dexter) \n",
    "\n",
    "Dexter.animal_type"
   ]
  },
  {
   "cell_type": "code",
   "execution_count": 8,
   "id": "d261579b-a1af-4f92-94d8-eecf6bef647b",
   "metadata": {},
   "outputs": [],
   "source": [
    "## Inheritance\n",
    "\n",
    "## It is possible for a class to inherit from another class and get all its features, like variables\n",
    "## and methods. For example, we could define a new class called Dog which would inherit\n",
    "## from the class Pet . \n",
    "\n",
    "class Dog(Pet):\n",
    "    def __init__(self, name, breed):\n",
    "        Pet.__init__(self, name, \"dog\")\n",
    "        self.breed = breed"
   ]
  },
  {
   "cell_type": "code",
   "execution_count": 9,
   "id": "1f16ce47-3848-4df9-8ffc-4be9e606a9e5",
   "metadata": {},
   "outputs": [],
   "source": [
    "## Create an instance of subclass Dog\n",
    "\n",
    "Ornit = Dog(\"Ornit\", \"Vizsla\")"
   ]
  },
  {
   "cell_type": "code",
   "execution_count": 10,
   "id": "c0873444-4403-4d9b-a17c-b8c962ca7a62",
   "metadata": {},
   "outputs": [
    {
     "data": {
      "text/plain": [
       "'dog'"
      ]
     },
     "execution_count": 10,
     "metadata": {},
     "output_type": "execute_result"
    }
   ],
   "source": [
    "Ornit.animal_type #animal_type is from Pet class. Dog subclass inherit from Pet Class. "
   ]
  },
  {
   "cell_type": "code",
   "execution_count": 11,
   "id": "7fe5b081-4856-4bef-a6b3-8ee300111e58",
   "metadata": {},
   "outputs": [
    {
     "data": {
      "text/plain": [
       "'Vizsla'"
      ]
     },
     "execution_count": 11,
     "metadata": {},
     "output_type": "execute_result"
    }
   ],
   "source": [
    "Ornit.breed # breed is the property of the subclass Dog"
   ]
  },
  {
   "cell_type": "markdown",
   "id": "fa3204b2-6959-4bcf-a0d1-eddeeb1a9cf2",
   "metadata": {},
   "source": [
    "## Public vs Private variables\n",
    "\n",
    "Wider subject of Encapsulation.\n",
    "\n",
    "We do point out here that in Python, the general practice is to not restrict access to class variables and methods.\n",
    "\n",
    "There are naming conventions.\n",
    "\n",
    "#### single underscore before the name of a variable or method means they are intended only for the class itself\n",
    "#### and its subclasses\n",
    "\n",
    "#### double underscore before the name of a variable or method means they should not be accessed from outside of the class.Name Mangling.\n"
   ]
  },
  {
   "cell_type": "code",
   "execution_count": 12,
   "id": "9a40e328-b6b8-4cc7-a0aa-eddfdda643b3",
   "metadata": {},
   "outputs": [],
   "source": [
    "# Create a car class\n",
    "\n",
    "class Car:\n",
    "    def __init__(self, color, brand):\n",
    "        self._color = color  # protected variable\n",
    "        self.__brand = brand # private variable"
   ]
  },
  {
   "cell_type": "code",
   "execution_count": 13,
   "id": "715c91de-ccbb-4a6f-9d83-4ae4450f4c36",
   "metadata": {},
   "outputs": [],
   "source": [
    "# Create an instance of the car\n",
    "\n",
    "my_car = Car(\"black\", \"audi\")"
   ]
  },
  {
   "cell_type": "code",
   "execution_count": 14,
   "id": "44435c07-0a23-42bf-9883-e0de48ec57ec",
   "metadata": {},
   "outputs": [
    {
     "data": {
      "text/plain": [
       "'black'"
      ]
     },
     "execution_count": 14,
     "metadata": {},
     "output_type": "execute_result"
    }
   ],
   "source": [
    "# Access the attributes or properties of instance my_car\n",
    "\n",
    "my_car._color"
   ]
  },
  {
   "cell_type": "code",
   "execution_count": null,
   "id": "49954ec3-6cfe-41b8-a6e9-903de5ee26ad",
   "metadata": {},
   "outputs": [],
   "source": [
    "# my_car.__brand # This code will triggers the error"
   ]
  },
  {
   "cell_type": "code",
   "execution_count": null,
   "id": "02a6a8e4-b0c9-483e-b55c-8f9d99a09cae",
   "metadata": {},
   "outputs": [],
   "source": []
  }
 ],
 "metadata": {
  "kernelspec": {
   "display_name": "Python [conda env:adsml] *",
   "language": "python",
   "name": "conda-env-adsml-py"
  },
  "language_info": {
   "codemirror_mode": {
    "name": "ipython",
    "version": 3
   },
   "file_extension": ".py",
   "mimetype": "text/x-python",
   "name": "python",
   "nbconvert_exporter": "python",
   "pygments_lexer": "ipython3",
   "version": "3.9.7"
  }
 },
 "nbformat": 4,
 "nbformat_minor": 5
}

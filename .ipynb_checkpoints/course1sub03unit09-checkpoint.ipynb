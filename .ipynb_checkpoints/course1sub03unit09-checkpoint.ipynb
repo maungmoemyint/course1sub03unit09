{
 "cells": [
  {
   "cell_type": "markdown",
   "id": "6c0bb9b3-bfe3-42c9-99dd-a5279bf227ea",
   "metadata": {},
   "source": [
    "## Classes and Objects"
   ]
  },
  {
   "cell_type": "code",
   "execution_count": null,
   "id": "5312c6dc-6269-4d0f-9557-054d5ef1d9bd",
   "metadata": {},
   "outputs": [],
   "source": []
  }
 ],
 "metadata": {
  "kernelspec": {
   "display_name": "Python [conda env:adsml] *",
   "language": "python",
   "name": "conda-env-adsml-py"
  },
  "language_info": {
   "codemirror_mode": {
    "name": "ipython",
    "version": 3
   },
   "file_extension": ".py",
   "mimetype": "text/x-python",
   "name": "python",
   "nbconvert_exporter": "python",
   "pygments_lexer": "ipython3",
   "version": "3.9.7"
  }
 },
 "nbformat": 4,
 "nbformat_minor": 5
}
